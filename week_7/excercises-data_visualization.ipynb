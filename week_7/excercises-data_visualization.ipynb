{
 "cells": [
  {
   "cell_type": "code",
   "execution_count": null,
   "metadata": {},
   "outputs": [],
   "source": []
  },
  {
   "cell_type": "markdown",
   "metadata": {},
   "source": [
    "# Excercises\n",
    "For Data visualization excercises, let's take a look at a rather cute topic: penguins.\n",
    "\n",
    "This source for this dataset can be found [here](https://www.kaggle.com/parulpandey/palmer-archipelago-antarctica-penguin-data)\n",
    "\n",
    "It contains a the following information about penguins living in Antarcitca gathered by researchers at the Palmer research Station.\n",
    "\n",
    "\n",
    "|Variable| Definition|\n",
    "|-----------|------------------------|\n",
    "| species:  | penguin species (Chinstrap, Adélie, or Gentoo) |\n",
    "|culmen_length_mm | culmen length (mm)|\n",
    "|culmen_depth_mm |culmen depth (mm)|\n",
    "|flipper_length_mm| flipper length (mm) |\n",
    "|body_mass_g| body mass (g)\n",
    "|island| island name (Dream, Torgersen, or Biscoe) in the Palmer Archipelago (Antarctica)|\n",
    "|sex| penguin sex|\n",
    "\n",
    "\n",
    "The culmen is \"the upper ridge of a bird's beak\" (definition from Oxford Languages).\n",
    "\n",
    "![image](penguins.jpg)"
   ]
  },
  {
   "cell_type": "markdown",
   "metadata": {},
   "source": [
    "# Plotting\n",
    "\n",
    "The excercises today are using seaborn to make plots of a multidimensional dataset. \n",
    "\n",
    "A gallery of different plots that can be made is [here](https://seaborn.pydata.org/examples/index.html) this is useful for finding the specifc plot you are thinking of.  you need.\n",
    "\n",
    "An in-depth tutorial on how to use seaborn is [here](https://seaborn.pydata.org/tutorial.html)\n",
    "\n",
    "\n",
    "\n"
   ]
  },
  {
   "cell_type": "code",
   "execution_count": 4,
   "metadata": {
    "cell_id": "00001-beac069b-2856-476a-b835-c830b039b83c",
    "deepnote_cell_type": "code",
    "tags": []
   },
   "outputs": [],
   "source": [
    "#Setup the preliminaries\n",
    "import matplotlib.pyplot as plt\n",
    "import pandas as pd\n",
    "import numpy as np\n",
    "import seaborn as sns\n",
    "\n",
    "%matplotlib inline\n",
    "\n"
   ]
  },
  {
   "cell_type": "code",
   "execution_count": 77,
   "metadata": {
    "cell_id": "d7debe1d-444a-4b1b-ae10-041cb5e7c529",
    "deepnote_cell_type": "code",
    "tags": []
   },
   "outputs": [],
   "source": [
    "\n",
    "penguins = pd.read_csv(\"penguins_size.csv\")\n",
    "\n",
    "#Note: This is real data.  In real data there is often issues and things arent' quite neat\n",
    "#and tidy.  In this case it wasn't always possible to make every measure from every penguin\n",
    "#The missing values are coded NaN.   For our purposes today we remove any penguins that\n",
    "# don't have full set of measurements\n",
    "# To do this we can use the dropna() functions to remove these rows from the dataframe \n",
    "# some penguins ahve \n",
    "penguins = penguins.dropna()\n",
    "\n",
    "#There is also an error where 1 penguin has a error with \".\" recorded for sex. \n",
    "#Here I keep everying not equal (!=) to a '.'\n",
    "penguins = penguins[ penguins['sex']!='.']\n"
   ]
  },
  {
   "cell_type": "markdown",
   "metadata": {},
   "source": [
    "## Categorical Plots\n",
    "\n",
    "Make a bar of the body mass for each species of penguin. \n",
    "\n",
    "Make a box plot for the flipper length for each species. \n",
    "\n",
    "Next, for each of the 3 species seperately, make a categorical plots of your choice for the body mass for the 2 sexes.  That is 3 seperate panels.  These can be done in the same \"plot\" but should have bars for each sex. NOTE: Not all observations include the sex of the bird (some values are empty).  \n",
    "\n",
    "Why did you make the choice you did?  Try another choice and see whether/how that influences your view of the data. \n"
   ]
  },
  {
   "cell_type": "markdown",
   "metadata": {
    "cell_id": "7c6250ba-20d9-4e92-84d4-d68577ecea7a",
    "deepnote_cell_type": "markdown",
    "tags": []
   },
   "source": [
    "## Scatter plots\n",
    "\n",
    "scatter plots are most useful when we are trying to determine the relationship between two numeric variables. \n",
    "For example, would a heavier body mass indicate generically larger pengiuins? \n",
    "\n",
    "To answer the question try drawing a few scatter plots of: culmen length vs body mass, culmen depth vs body mass, flippper length vs body mass.   There are many Try to make at least one of these scatter plots include all species in one plotlabeled by different colors.\n",
    "\n",
    "Importantly for plots to be interpretible by others proper labels need to be included. Seaborn adds things automatically.  But often these can be cryptic to people not familiar with your data.  You usually have to change these to a more understandble value.   In order to gain practice be sure to add to at least one of the graphs:\n",
    "\n",
    "What is the x axis?\n",
    "What is the y axis?\n",
    "If multiple colors/symbols what do they represent?\n",
    "\n",
    "Add a title for what the graph is showing.\n",
    "\n",
    "\n"
   ]
  }
 ],
 "metadata": {
  "deepnote_execution_queue": [],
  "deepnote_notebook_id": "95bbb995-c0a2-4e61-a9bc-c91e57e49e4e",
  "kernelspec": {
   "display_name": "Python 3.8.12 64-bit ('jmaJupyterPy38': conda)",
   "name": "python3812jvsc74a57bd017445a4fc8918f5d567c21d42053b58d1bb2666d398f50777a1b4ea52e90fb83"
  },
  "language_info": {
   "name": "python",
   "version": ""
  }
 },
 "nbformat": 4,
 "nbformat_minor": 2
}

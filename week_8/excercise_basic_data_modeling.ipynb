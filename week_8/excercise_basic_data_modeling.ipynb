{
 "cells": [
  {
   "cell_type": "markdown",
   "metadata": {},
   "source": [
    "# Excercise\n",
    "\n",
    "I put the code below to load the penguins dataset. \n",
    "But I left out the **import** statements.  You need to put in the neccessary import statements. \n",
    "\n",
    "Make a plot of flipper length vs body mass\n",
    "\n",
    "Find the parameters for a best fit line to this data  using sci-kit learn.\n",
    "\n",
    "Fit a best fit line for flipper length vs body mass for each species separately and qualitatively compare the fits. Putting the best fit lines onto the graphs may help this. \n",
    "\n",
    "A scientist discovered a new penguin with body mass of 8,250 grams.  Using your models from above what would you predict it's flipper length to be? You should decide which of the above models you think is best for this task. \n",
    "\n",
    "Fit a best fit line for culmen depth vs body mass for each species separately and qualitatively compare the fits.  What aspects of the data do the model parameters (slope and intercept) capture?\n",
    "\n",
    "Stretch Goal: If that went you can try and extend from the linear regression and add a logistic regression.  Try and use a logistic regression to predict the gender of a penguin based on its body mass. *NOTE!! You need to use body mass in KG (dive g by 1000).  If you use grams with default parameters the fit won't work well.  The reason behind this is beyond the scope of this excercise. \n"
   ]
  },
  {
   "cell_type": "code",
   "execution_count": 2,
   "metadata": {},
   "outputs": [
    {
     "data": {
      "text/html": [
       "<div>\n",
       "<style scoped>\n",
       "    .dataframe tbody tr th:only-of-type {\n",
       "        vertical-align: middle;\n",
       "    }\n",
       "\n",
       "    .dataframe tbody tr th {\n",
       "        vertical-align: top;\n",
       "    }\n",
       "\n",
       "    .dataframe thead th {\n",
       "        text-align: right;\n",
       "    }\n",
       "</style>\n",
       "<table border=\"1\" class=\"dataframe\">\n",
       "  <thead>\n",
       "    <tr style=\"text-align: right;\">\n",
       "      <th></th>\n",
       "      <th>culmen_length_mm</th>\n",
       "      <th>culmen_depth_mm</th>\n",
       "      <th>flipper_length_mm</th>\n",
       "      <th>body_mass_g</th>\n",
       "    </tr>\n",
       "  </thead>\n",
       "  <tbody>\n",
       "    <tr>\n",
       "      <th>count</th>\n",
       "      <td>341.000000</td>\n",
       "      <td>341.000000</td>\n",
       "      <td>341.000000</td>\n",
       "      <td>341.000000</td>\n",
       "    </tr>\n",
       "    <tr>\n",
       "      <th>mean</th>\n",
       "      <td>43.920235</td>\n",
       "      <td>17.155425</td>\n",
       "      <td>200.868035</td>\n",
       "      <td>4199.780059</td>\n",
       "    </tr>\n",
       "    <tr>\n",
       "      <th>std</th>\n",
       "      <td>5.467516</td>\n",
       "      <td>1.976124</td>\n",
       "      <td>14.055255</td>\n",
       "      <td>802.300201</td>\n",
       "    </tr>\n",
       "    <tr>\n",
       "      <th>min</th>\n",
       "      <td>32.100000</td>\n",
       "      <td>13.100000</td>\n",
       "      <td>172.000000</td>\n",
       "      <td>2700.000000</td>\n",
       "    </tr>\n",
       "    <tr>\n",
       "      <th>25%</th>\n",
       "      <td>39.200000</td>\n",
       "      <td>15.600000</td>\n",
       "      <td>190.000000</td>\n",
       "      <td>3550.000000</td>\n",
       "    </tr>\n",
       "    <tr>\n",
       "      <th>50%</th>\n",
       "      <td>44.400000</td>\n",
       "      <td>17.300000</td>\n",
       "      <td>197.000000</td>\n",
       "      <td>4050.000000</td>\n",
       "    </tr>\n",
       "    <tr>\n",
       "      <th>75%</th>\n",
       "      <td>48.500000</td>\n",
       "      <td>18.700000</td>\n",
       "      <td>213.000000</td>\n",
       "      <td>4750.000000</td>\n",
       "    </tr>\n",
       "    <tr>\n",
       "      <th>max</th>\n",
       "      <td>59.600000</td>\n",
       "      <td>21.500000</td>\n",
       "      <td>231.000000</td>\n",
       "      <td>6300.000000</td>\n",
       "    </tr>\n",
       "  </tbody>\n",
       "</table>\n",
       "</div>"
      ],
      "text/plain": [
       "       culmen_length_mm  culmen_depth_mm  flipper_length_mm  body_mass_g\n",
       "count        341.000000       341.000000         341.000000   341.000000\n",
       "mean          43.920235        17.155425         200.868035  4199.780059\n",
       "std            5.467516         1.976124          14.055255   802.300201\n",
       "min           32.100000        13.100000         172.000000  2700.000000\n",
       "25%           39.200000        15.600000         190.000000  3550.000000\n",
       "50%           44.400000        17.300000         197.000000  4050.000000\n",
       "75%           48.500000        18.700000         213.000000  4750.000000\n",
       "max           59.600000        21.500000         231.000000  6300.000000"
      ]
     },
     "execution_count": 2,
     "metadata": {},
     "output_type": "execute_result"
    }
   ],
   "source": [
    "#Write your own import statements here. \n",
    "import ...\n",
    "\n",
    "penguins = pd.read_csv('../week_7/penguins_size.csv')\n",
    "penguins.dropna()\n",
    "penguins = penguins[ penguins['sex']!='.']\n",
    "penguins.describe()"
   ]
  },
  {
   "cell_type": "code",
   "execution_count": null,
   "metadata": {},
   "outputs": [],
   "source": []
  }
 ],
 "metadata": {
  "celltoolbar": "Tags",
  "deepnote_execution_queue": [],
  "deepnote_notebook_id": "e33b0ed3-335c-4799-886e-76cd443c4535",
  "kernelspec": {
   "display_name": "Python 3.8.12 64-bit ('jmaJupyterPy38': conda)",
   "name": "jmajupyterpy38"
  },
  "language_info": {
   "codemirror_mode": {
    "name": "ipython",
    "version": 3
   },
   "file_extension": ".py",
   "mimetype": "text/x-python",
   "name": "python",
   "nbconvert_exporter": "python",
   "pygments_lexer": "ipython3",
   "version": "3.8.12"
  },
  "varInspector": {
   "cols": {
    "lenName": 16,
    "lenType": 16,
    "lenVar": 40
   },
   "kernels_config": {
    "python": {
     "delete_cmd_postfix": "",
     "delete_cmd_prefix": "del ",
     "library": "var_list.py",
     "varRefreshCmd": "print(var_dic_list())"
    },
    "r": {
     "delete_cmd_postfix": ") ",
     "delete_cmd_prefix": "rm(",
     "library": "var_list.r",
     "varRefreshCmd": "cat(var_dic_list()) "
    }
   },
   "types_to_exclude": [
    "module",
    "function",
    "builtin_function_or_method",
    "instance",
    "_Feature"
   ],
   "window_display": false
  }
 },
 "nbformat": 4,
 "nbformat_minor": 2
}

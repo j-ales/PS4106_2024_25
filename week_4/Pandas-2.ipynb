{
 "cells": [
  {
   "cell_type": "markdown",
   "metadata": {},
   "source": [
    "# Introduction to Pandas, Part 2\n",
    "\n",
    "## Grouping \n",
    "\n",
    "Grouping (aka selecting) is a very common task.   Say, you had 10 participatns and each completed 3 conditions.  By \"grouping\" we mean taking considering each \"group\" of 10 participants seperately for each condition and calculating something, like an average.   That's just one example.  There are many others that can be done.    It's one of the most useful tools to be able to do easily on a dataset.  \n",
    "\n",
    "\n",
    "## Classes\n",
    "\n",
    "We've gone over variables and functions but haven't mentioned classes.   We won't be going over them in this module.  Making classes is a slightly a more advanced programming skill.   However, we've been using them already with Pandas.  \n",
    "\n",
    "Classes provide a means of bundling data and functionality together.  They define both the data and useful things to do to the data.  Because they are together you can unlock some simple syntax that can do complicated things.\n",
    "\n",
    "\n",
    "Say you wanted to sort and grab the first 10 rows.   \n",
    "\n",
    "If you just used seperate functions \n",
    "```\n",
    "sorted_df = sort_values(df,'column A')\n",
    "top10 = head(df,10)\n",
    "\n",
    "```\n",
    "\n",
    "There's nothing wrong with that.   A lot of code is written that way.   But with classes the \n",
    "\n",
    "```\n",
    "df.sort_values('column A').head(10)\n",
    "```\n",
    "\n",
    "There's a lot more stuff classes unlock. "
   ]
  },
  {
   "cell_type": "markdown",
   "metadata": {},
   "source": [
    "Let's start by loading the California baby names again."
   ]
  },
  {
   "cell_type": "code",
   "execution_count": null,
   "metadata": {},
   "outputs": [],
   "source": [
    "%matplotlib inline\n",
    "import matplotlib.pyplot as plt\n",
    "import numpy as np\n",
    "import pandas as pd\n",
    "# import seaborn as sns\n",
    "# sns.set()\n",
    "\n",
    "from IPython.display import display\n",
    "import urllib.request\n",
    "import os.path\n",
    "import zipfile\n",
    "\n",
    "data_url = \"https://www.ssa.gov/oact/babynames/state/namesbystate.zip\"\n",
    "local_filename = \"../week_2/babynamesbystate.zip\"\n",
    "if not os.path.exists(local_filename): # if the data exists don't download again\n",
    "    with urllib.request.urlopen(data_url) as resp, open(local_filename, 'wb') as f:\n",
    "        f.write(resp.read())\n",
    "\n",
    "zf = zipfile.ZipFile(local_filename, 'r')\n",
    "\n",
    "ca_name = 'CA.TXT'\n",
    "field_names = ['State', 'Sex', 'Year', 'Name', 'Count']\n",
    "with zf.open(ca_name) as fh:\n",
    "    babynames = pd.read_csv(fh, header=None, names=field_names)\n",
    "\n",
    "babynames.sample(5)"
   ]
  },
  {
   "cell_type": "markdown",
   "metadata": {},
   "source": [
    "# Grouping and Aggregating\n",
    "\n"
   ]
  },
  {
   "cell_type": "markdown",
   "metadata": {},
   "source": [
    "To understand how groupby works, consider the visual diagram below. The `groupby` function clusters rows from the original dataframe into groups (which I call subframes). The `agg` function then condenses each subframe into a single representative row using the provided function f."
   ]
  },
  {
   "cell_type": "markdown",
   "metadata": {},
   "source": [
    "![image](groupby_max.png)"
   ]
  },
  {
   "cell_type": "markdown",
   "metadata": {},
   "source": [
    "Let's actually build this DataFrame and play with it interactively to understand `groupby` a little better:"
   ]
  },
  {
   "cell_type": "code",
   "execution_count": null,
   "metadata": {},
   "outputs": [],
   "source": [
    "d = pd.DataFrame(dict(x=[3,1,4,1,5,9,2,5,6], y=[12,7,3,2,7,3,8,6,7]), index=list('ABCABCACB') )\n",
    "d"
   ]
  },
  {
   "cell_type": "markdown",
   "metadata": {},
   "source": [
    "Groupby returns a funny thing.   We've been using pandas where the functinos we call return dataframes.   So they get rendered in our environment nicely and make sense.   The groupby is an intermediate form or \"object\" that doesn't have a nice render defined. "
   ]
  },
  {
   "cell_type": "code",
   "execution_count": null,
   "metadata": {},
   "outputs": [],
   "source": [
    "dgb = d.groupby(d.index)\n",
    "dgb"
   ]
  },
  {
   "cell_type": "markdown",
   "metadata": {},
   "source": [
    "That output just says that there is a groupby object defined.   Not useful at all for you.  It's much more useful to use some functions that return parts of the groupby. For example, how were the groups labeled.   That's stored in the groupby object as a \"Dictionary\".    "
   ]
  },
  {
   "cell_type": "code",
   "execution_count": null,
   "metadata": {},
   "outputs": [],
   "source": [
    "dgb.groups"
   ]
  },
  {
   "cell_type": "markdown",
   "metadata": {},
   "source": [
    "This isn't a funcion.   It's a piece of data stored about the groupby object.  That's why we don't use groups()  "
   ]
  },
  {
   "cell_type": "code",
   "execution_count": null,
   "metadata": {},
   "outputs": [],
   "source": [
    "dgb.groups()"
   ]
  },
  {
   "cell_type": "markdown",
   "metadata": {},
   "source": [
    "But we can access the data in this dictionary just as if it was any other dictionary"
   ]
  },
  {
   "cell_type": "code",
   "execution_count": null,
   "metadata": {},
   "outputs": [],
   "source": [
    "dgb.groups['A']"
   ]
  },
  {
   "cell_type": "markdown",
   "metadata": {},
   "source": [
    "A very useful function is to get the values in a specific group"
   ]
  },
  {
   "cell_type": "code",
   "execution_count": null,
   "metadata": {},
   "outputs": [],
   "source": [
    "dgb.get_group('A')"
   ]
  },
  {
   "cell_type": "markdown",
   "metadata": {},
   "source": [
    "Another useful thing is that groupby() outputs can be looped over in a fairly straightforward way.  This is useful for inspecting data and for debugging"
   ]
  },
  {
   "cell_type": "code",
   "execution_count": null,
   "metadata": {},
   "outputs": [],
   "source": [
    "#Loop over the groups, printing the name and the values\n",
    "for name, group in dgb:\n",
    "    print(name)\n",
    "    print(group)"
   ]
  },
  {
   "cell_type": "code",
   "execution_count": null,
   "metadata": {},
   "outputs": [],
   "source": [
    "#Loop over the groups, printing the name and the values, but with a slightly prettier output\n",
    "\n",
    "for name, group in dgb:\n",
    "    print(f\"Group: {name}\")\n",
    "    print(group)\n",
    "    print() # print a blank line\n",
    "    "
   ]
  },
  {
   "cell_type": "markdown",
   "metadata": {},
   "source": [
    "---"
   ]
  },
  {
   "cell_type": "markdown",
   "metadata": {},
   "source": [
    "To test your understanding, try to interpret the result of the code below."
   ]
  },
  {
   "cell_type": "code",
   "execution_count": null,
   "metadata": {},
   "outputs": [],
   "source": [
    "babynames[ [\"Year\",\"Count\"] ].groupby(\"Year\").agg(max).plot();"
   ]
  },
  {
   "cell_type": "markdown",
   "metadata": {},
   "source": [
    "For reference, the first 5 values from the plot above are:"
   ]
  },
  {
   "cell_type": "code",
   "execution_count": null,
   "metadata": {},
   "outputs": [],
   "source": [
    "babynames[ [\"Year\",\"Count\"] ].groupby(\"Year\").agg(sum).head(5)"
   ]
  },
  {
   "cell_type": "markdown",
   "metadata": {},
   "source": [
    "## groupby warning\n",
    "\n",
    "It is easy to get unexpected things.  Groupby is a powerful command that can do a lot of data manipulations but it is easy to get results you don't intend. \n",
    "\n",
    "Let's switch dataset quickly and look at the US Presidential elections again.  Suppose you want to know the best election result that each political party achieved.  "
   ]
  },
  {
   "cell_type": "code",
   "execution_count": null,
   "metadata": {},
   "outputs": [],
   "source": [
    "elections = pd.read_csv(\"elections.csv\")\n",
    "elections.sample(5)"
   ]
  },
  {
   "cell_type": "markdown",
   "metadata": {},
   "source": [
    "We have to be careful when using aggregation functions. For example, the code below might be misinterpreted to say that Woodrow Wilson ran for election in 2016, or that William Taft won the Presidential election in 2020 for the Republicans.   Why is this happening?"
   ]
  },
  {
   "cell_type": "code",
   "execution_count": null,
   "metadata": {},
   "outputs": [],
   "source": [
    "elections.groupby(\"Party\").agg(max)"
   ]
  },
  {
   "cell_type": "code",
   "execution_count": null,
   "metadata": {},
   "outputs": [],
   "source": [
    "elections.groupby(\"Party\").agg(max).head(5)"
   ]
  },
  {
   "cell_type": "code",
   "execution_count": null,
   "metadata": {},
   "outputs": [],
   "source": [
    "elections.groupby(\"Party\").get_group(\"American\")"
   ]
  },
  {
   "cell_type": "markdown",
   "metadata": {},
   "source": [
    "### groupby fix"
   ]
  },
  {
   "cell_type": "markdown",
   "metadata": {},
   "source": [
    "Next we'll write code that properly returns _the best result by each party_. That is, each row should show the Year, Candidate, Popular Vote, Result, and % for the election in which that party saw its best results (rather than mixing them and treating every column independently as in the example above), here's what the first rows of the correct output should look like:\n"
   ]
  },
  {
   "cell_type": "code",
   "execution_count": null,
   "metadata": {},
   "outputs": [],
   "source": [
    "elections_sorted_by_percent = elections.sort_values(\"%\", ascending=False)\n",
    "elections_sorted_by_percent.head(5)"
   ]
  },
  {
   "cell_type": "markdown",
   "metadata": {},
   "source": [
    "We used the agg(max) method to  combine above. Instead, now that we have a sorted table it is now simply a matter of taking the first() row and ignoring all the others.    "
   ]
  },
  {
   "cell_type": "code",
   "execution_count": null,
   "metadata": {},
   "outputs": [],
   "source": [
    "elections_sorted_by_percent = elections.sort_values(\"%\", ascending=False)\n",
    "elections_sorted_by_percent.groupby(\"Party\").get_group(\"Democratic\").head(5)"
   ]
  },
  {
   "cell_type": "code",
   "execution_count": null,
   "metadata": {},
   "outputs": [],
   "source": [
    "    \n",
    "elections_sorted_by_percent = elections.sort_values(\"%\", ascending=False)\n",
    "elections_sorted_by_percent.groupby(\"Party\").first()"
   ]
  },
  {
   "cell_type": "code",
   "execution_count": null,
   "metadata": {},
   "outputs": [],
   "source": []
  },
  {
   "cell_type": "markdown",
   "metadata": {},
   "source": [
    "You'll soon discover that with Pandas' rich tool set, there's typically more than one way to get to the same answer. Each approach has different tradeoffs in terms of readability, performance, memory consumption, complexity and more.  It will take some experience for you to develop a sense of which approach is better for each problem, but you should in general try to think if you can at least envision a different solution to a given problem, especially if you find your current solution to be particularly convoluted or hard to read.\n"
   ]
  },
  {
   "cell_type": "markdown",
   "metadata": {},
   "source": [
    "---"
   ]
  },
  {
   "cell_type": "markdown",
   "metadata": {},
   "source": [
    "## Other groupby Features"
   ]
  },
  {
   "cell_type": "markdown",
   "metadata": {},
   "source": [
    "### groupby.size()"
   ]
  },
  {
   "cell_type": "code",
   "execution_count": null,
   "metadata": {},
   "outputs": [],
   "source": [
    "elections.groupby(\"Party\")"
   ]
  },
  {
   "cell_type": "code",
   "execution_count": null,
   "metadata": {
    "scrolled": true
   },
   "outputs": [],
   "source": [
    "#size returns a Series giving the size of each group\n",
    "elections.groupby(\"Party\").size().head(15)"
   ]
  },
  {
   "cell_type": "markdown",
   "metadata": {},
   "source": [
    "### groupby.filter()\n",
    "\n",
    "Useful to know it exists. Can filter by criteria within a group.    But I won't talk about it.  "
   ]
  },
  {
   "cell_type": "code",
   "execution_count": null,
   "metadata": {},
   "outputs": [],
   "source": [
    "# filter gives a copy of the original DataFrame where row r is included\n",
    "# if its group obeys the given condition\n",
    "#\n",
    "# Note: Filtering is done per GROUP, not per ROW.\n",
    "elections.groupby(\"Year\").filter(lambda sf: sf[\"%\"].max() < 45)"
   ]
  },
  {
   "cell_type": "markdown",
   "metadata": {},
   "source": [
    "### groupby.sum(), groupby.mean(), etc."
   ]
  },
  {
   "cell_type": "markdown",
   "metadata": {},
   "source": [
    "As an alternative to groupby.agg(sum), we can also simply do groupby.sum()."
   ]
  },
  {
   "cell_type": "code",
   "execution_count": null,
   "metadata": {},
   "outputs": [],
   "source": [
    "elections.groupby(\"Year\").agg(sum).head()"
   ]
  },
  {
   "cell_type": "code",
   "execution_count": null,
   "metadata": {},
   "outputs": [],
   "source": [
    "elections.groupby(\"Year\").sum().head()"
   ]
  },
  {
   "cell_type": "markdown",
   "metadata": {},
   "source": [
    "The same applies for many other common operations."
   ]
  },
  {
   "cell_type": "code",
   "execution_count": null,
   "metadata": {},
   "outputs": [],
   "source": [
    "elections.groupby(\"Year\").agg(max).head()"
   ]
  },
  {
   "cell_type": "code",
   "execution_count": null,
   "metadata": {},
   "outputs": [],
   "source": [
    "elections.groupby(\"Year\").max().head()"
   ]
  },
  {
   "cell_type": "code",
   "execution_count": null,
   "metadata": {},
   "outputs": [],
   "source": [
    "#elections.groupby(\"Year\").mean().head()\n",
    "elections.groupby(\"Year\").median().head()\n",
    "#elections.groupby(\"Year\").max().head()"
   ]
  },
  {
   "cell_type": "markdown",
   "metadata": {},
   "source": [
    "# Grouping by more than one thing\n",
    "\n",
    "\n",
    "Groupby() is not just limited to 1 column name you can create an index with multiple columns too. \n",
    "\n",
    "This uses jargon alert: **Hierarchical indexing**\n",
    "\n",
    "\n"
   ]
  },
  {
   "cell_type": "code",
   "execution_count": null,
   "metadata": {},
   "outputs": [],
   "source": [
    "elections.groupby([\"Year\", \"Result\"]).agg(max).head(10)"
   ]
  },
  {
   "cell_type": "code",
   "execution_count": null,
   "metadata": {},
   "outputs": [],
   "source": [
    "babynames.groupby([\"Sex\", \"Year\"]).agg(max).head(6)"
   ]
  },
  {
   "cell_type": "markdown",
   "metadata": {},
   "source": [
    "Suppose we want to build a table showing the most babies born with the same name for each sex in each year. One way is to groupby using both columns of interest."
   ]
  },
  {
   "cell_type": "code",
   "execution_count": null,
   "metadata": {},
   "outputs": [],
   "source": [
    "#Not quite the expected output. \n",
    "babynames.groupby([\"Year\", \"Sex\"]).agg(max).tail(10)"
   ]
  },
  {
   "cell_type": "markdown",
   "metadata": {},
   "source": [
    "Anything funny about that output?"
   ]
  },
  {
   "cell_type": "code",
   "execution_count": null,
   "metadata": {},
   "outputs": [],
   "source": [
    "babynames.groupby([\"Year\", \"Sex\"]).agg(sum).head(6)"
   ]
  },
  {
   "cell_type": "markdown",
   "metadata": {},
   "source": [
    "#Slicing\n",
    "\n",
    "In order to select things in the multi index you need to use python \"slice\" syntax.  We did that last week.  But it gets fiddly with a multi index. \n",
    "\n",
    "Remember how we could use start:end to select a range?  You can do the same with a multi index.   But it's funky because a multiple index has multiple things.   \n"
   ]
  },
  {
   "cell_type": "code",
   "execution_count": 7,
   "metadata": {},
   "outputs": [],
   "source": [
    "babyGrouped = babynames.groupby([\"Year\", \"Sex\"],).agg(max)\n",
    "\n",
    "\n",
    "\n"
   ]
  },
  {
   "cell_type": "code",
   "execution_count": null,
   "metadata": {},
   "outputs": [],
   "source": [
    "#Slice Example\n",
    "babyGrouped.loc[ (2010,'M') ,slice(None)]\n",
    "\n",
    "babyGrouped.loc[ (2010,'M'):(2012,'F') ,slice(None)]\n"
   ]
  },
  {
   "cell_type": "markdown",
   "metadata": {},
   "source": [
    "This is rather a tricky syntax to master.  But it will be very useful because you often want to group using the values in multiple columns."
   ]
  },
  {
   "cell_type": "markdown",
   "metadata": {},
   "source": [
    "## Resetting the index\n",
    "\n",
    "Sometimes instead of using the a heirarchical multi index it's easier to just reset the index.  That puts the index values back into the columns. \n",
    "\n",
    "### WARNING Output vs. changing things\n",
    "\n",
    "Most of these commands are not -changing- the dataframe.  You need to specifically do that. "
   ]
  },
  {
   "cell_type": "code",
   "execution_count": null,
   "metadata": {},
   "outputs": [],
   "source": [
    "babyGrouped.reset_index()\n"
   ]
  },
  {
   "cell_type": "code",
   "execution_count": null,
   "metadata": {},
   "outputs": [],
   "source": [
    "babyGrouped"
   ]
  },
  {
   "cell_type": "code",
   "execution_count": 11,
   "metadata": {},
   "outputs": [],
   "source": [
    "babyGroupedReset = babyGrouped.reset_index()\n",
    "babyGroupedReset"
   ]
  },
  {
   "cell_type": "code",
   "execution_count": null,
   "metadata": {},
   "outputs": [],
   "source": [
    "babyGrouped.reset_index(inplace=True)"
   ]
  },
  {
   "cell_type": "markdown",
   "metadata": {},
   "source": [
    "## EZ plotting\n",
    "\n",
    "Pandas has a some built in plotting functions that can be used to get a quick view on the data.   They only create simple plots and they don't have powerful features like the Seaborn package we will learn later.  They can be fairly simplistic and not visual appealing and difficult for someone who is not familiar with the dataset to interpret.  They aren't really publication/report quality.  But they are fairly useful when you are doing data expoloration and just want a quick visual representation.   "
   ]
  },
  {
   "cell_type": "code",
   "execution_count": null,
   "metadata": {},
   "outputs": [],
   "source": [
    "#Let's try just plotting our babynames dataset:\n",
    "babynames.plot()"
   ]
  },
  {
   "cell_type": "markdown",
   "metadata": {},
   "source": [
    "Woah.  What is that?  Well it's just plotting the series by the index.   The index is just the raw line of the dataset.   It gives a quick view.  But it's totally un-interpretable. \n",
    "\n",
    "What might be more useful?   Well we have an variable \"year\" in our dataset.  Let's plot the data "
   ]
  },
  {
   "cell_type": "code",
   "execution_count": null,
   "metadata": {},
   "outputs": [],
   "source": [
    "#Plotting by year\n",
    "#First group by \"Year\" then take the sum of al the counts ()\n",
    "babynames.groupby([\"Year\"]).agg(sum).plot()"
   ]
  },
  {
   "cell_type": "markdown",
   "metadata": {},
   "source": [
    "Let's look at what went into that dataset to plot:"
   ]
  },
  {
   "cell_type": "code",
   "execution_count": null,
   "metadata": {},
   "outputs": [],
   "source": [
    "#Let's take a look at the first 10 rows of our dataset\n",
    "babynames.groupby([\"Year\"]).agg(sum).head(10)"
   ]
  },
  {
   "cell_type": "markdown",
   "metadata": {},
   "source": [
    "Ok So that's crazy right?   What is going on?  sum() is like \"+\"  and we've used \"+\" alot for strings in previous classes.   What + and a string does is to concatenate (stick together) the strings. Creating basically a nightmare unusable value in the column. Luckily when you go to \"plot\" it only plots numeric values, it ignores the strings. \n",
    "Let's be a bit more direct and choose a specific outcome column\n"
   ]
  },
  {
   "cell_type": "code",
   "execution_count": null,
   "metadata": {},
   "outputs": [],
   "source": [
    "#Let's make the same plot but only select the \"Count column\"\n",
    "#Note you I enclosed \"Count\" in []  so it's [ [\"Count\"] ]  that returns a dataframe instead of a series.  It works for a series as well\n",
    "#But you lose the column label so that can get confusing. \n",
    "babynames.groupby([\"Year\"])[[\"Count\"]].agg(sum)"
   ]
  },
  {
   "cell_type": "code",
   "execution_count": null,
   "metadata": {},
   "outputs": [],
   "source": [
    "#Another way to do the same thing is to use a dictionary to specify the column and the aggregation function\n",
    "#This is useful if you want to aggregate multiple columns, or if you want to use different aggregation functions for different columns\n",
    "babynames.groupby([\"Year\"]).agg({\"Count\":sum})"
   ]
  },
  {
   "cell_type": "code",
   "execution_count": null,
   "metadata": {},
   "outputs": [],
   "source": [
    "#As above, but here is showing the syntax for returning multiple different aggregations for the same column\n",
    "#In this case, we are returning the sum, min, and max of the \"Count\" column\n",
    "#This is extremely useful in practice\n",
    "babynames.groupby([\"Year\"]).agg({\"Count\":[sum,min,max]})"
   ]
  },
  {
   "cell_type": "code",
   "execution_count": null,
   "metadata": {},
   "outputs": [],
   "source": [
    "#Now let's make the plot. \n",
    "\n",
    "babynames.groupby([\"Year\"])[[\"Count\"]].agg(sum).plot()"
   ]
  },
  {
   "cell_type": "markdown",
   "metadata": {},
   "source": []
  },
  {
   "cell_type": "markdown",
   "metadata": {},
   "source": [
    "\n",
    "## Pivot Tables\n",
    "\n",
    "Pivot tables are another way to reformat and group data.  They are a different syntax that some find more natural. Especially if you've used the function in Excel before.  When grouping more than one thing they can be easier to work with.    \n",
    "\n",
    "Suppose we want to build a table showing the total number of babies born of each sex in each year. One way is to groupby using both columns of interest."
   ]
  },
  {
   "cell_type": "code",
   "execution_count": null,
   "metadata": {},
   "outputs": [],
   "source": [
    "babynames.groupby([\"Year\", \"Sex\"]).agg(sum).head(6)"
   ]
  },
  {
   "cell_type": "markdown",
   "metadata": {},
   "source": [
    "Another way is to use a \"Pivot Table\".   "
   ]
  },
  {
   "cell_type": "code",
   "execution_count": null,
   "metadata": {},
   "outputs": [],
   "source": [
    "babynames_pivot = babynames.pivot_table( index='Year', columns='Sex', values=['Count'], aggfunc=np.max, )\n",
    "babynames_pivot.head()"
   ]
  },
  {
   "cell_type": "markdown",
   "metadata": {},
   "source": [
    "THat line of code is getting complicated and hard to read.   Let's use formatting to make it simpler.  Below is exactly the same code"
   ]
  },
  {
   "cell_type": "code",
   "execution_count": null,
   "metadata": {},
   "outputs": [],
   "source": [
    "babynames_pivot = babynames.pivot_table(\n",
    "    index='Year', # the rows (turned into index)\n",
    "    columns='Sex', # the column values\n",
    "    values=['Count'], # the field(s) to processed in each group\n",
    "    aggfunc=np.sum, # group operation\n",
    ")\n",
    "babynames_pivot.tail()"
   ]
  },
  {
   "cell_type": "markdown",
   "metadata": {},
   "source": [
    "Further, with data structured this way making comparisons plots becomes straightforward.\n",
    "\n"
   ]
  },
  {
   "cell_type": "code",
   "execution_count": null,
   "metadata": {},
   "outputs": [],
   "source": [
    "babynames_pivot = babynames.pivot_table(\n",
    "    index='Year', # the rows (turned into index)\n",
    "    columns='Sex', # the column values\n",
    "    values=['Count'], # the field(s) to processed in each group\n",
    "    aggfunc=np.sum, # group operation\n",
    ")\n",
    "babynames_pivot.plot()\n",
    "\n"
   ]
  },
  {
   "cell_type": "markdown",
   "metadata": {},
   "source": [
    "Notice anything in that plot?"
   ]
  },
  {
   "cell_type": "markdown",
   "metadata": {},
   "source": [
    "### Excercises:  "
   ]
  },
  {
   "cell_type": "markdown",
   "metadata": {},
   "source": [
    "## Grouping\n",
    "\n",
    "More careful look at the most popular 2018 name in California.\n",
    "In last weeks tasks for popular names, we didn't take into account the unlikely possibility that the most popular name was actually spread across both birth sexes. For example, what if in the table below it turns out that there were 300 female Noahs born in CA in 2018? In that case, Noah would actually be the most popular.\n",
    "\n",
    "Since our queries are getting pretty long, I've stuck them inside parentheses which allows us to spread them over many lines.\n",
    "\n",
    "```python\n",
    "#This line of code can has lots of function in a row and can make it hard to read \n",
    "firstthing.nextFunction().anotherFunction()\n",
    "\n",
    "#Here is a the exact same code, just formated in a group for easier reading \n",
    "( #<--- start a a group of code. \n",
    "firstthing   #<---- start the first experssion\n",
    "    .nextFunction() #<--- do something\n",
    "    .anotherFunction() #<--- do something else\n",
    ") #<--- end the group\n",
    "```"
   ]
  },
  {
   "cell_type": "code",
   "execution_count": null,
   "metadata": {
    "scrolled": true
   },
   "outputs": [],
   "source": [
    "\n",
    "#\n",
    "#\n",
    "# ( <--- start a a group of code. \n",
    "# firstthing   <---- start the first experssion\n",
    "# .nextFunction() <--- do something\n",
    "# .anotherFunction() <--- do something else\n",
    "# ) <--- end the group\n",
    "\n",
    "\n",
    "\n",
    "(\n",
    "babynames[babynames[\"Year\"] == 2018]  # Select the rows where \"year\" is 2018\n",
    "    .sort_values(by = \"Count\", ascending = False)  # sort the names by the count\n",
    "    .head(5)  # take the top 5\n",
    ")"
   ]
  },
  {
   "cell_type": "markdown",
   "metadata": {},
   "source": [
    "Try to add a code into the operation above so that each row represents the sum of both male and female babies born in 2018 with the same name. To do this, fill in the ... below.\n",
    "\n"
   ]
  },
  {
   "cell_type": "code",
   "execution_count": null,
   "metadata": {},
   "outputs": [],
   "source": [
    "(\n",
    "babynames[babynames[\"Year\"] == 2018]\n",
    "    ...\n",
    "    ...   \n",
    "    .sort_values(by = \"Count\", ascending = False)\n",
    "    .head(5)\n",
    ")"
   ]
  },
  {
   "cell_type": "markdown",
   "metadata": {},
   "source": [
    "Here is another example of AI generated code. This code runs and produces an output.    Try and figure out what is wrong with this output. \n",
    "\n",
    "You don't have to fix it. "
   ]
  },
  {
   "cell_type": "code",
   "execution_count": null,
   "metadata": {},
   "outputs": [],
   "source": [
    "\n",
    "#AI Response 1: Microsoft CO-Pilot\n",
    "#Here is an AI generate coding for the question: \"Can you plot the percentage of babies named \"John\" over time?\"\n",
    "#This is wrong.  Run the code and determine why? \n",
    "\n",
    "#Can you plot the percentage of babies named \"John\" over time?\n",
    "babynames[babynames[\"Name\"] == \"John\"].groupby(\"Year\").agg(sum).plot()\n",
    "\n"
   ]
  },
  {
   "cell_type": "markdown",
   "metadata": {},
   "source": [
    "Can you make a table that lists the #1 names for the years 2000-2010?\n",
    "\n",
    "How many  babys in total were born in 1940? in 2020?\n",
    "\n",
    "Can you determine the most used name in total over all time?  For males and females seperately?  What does this tell you?\n",
    " \n",
    "\n",
    "\n",
    "Before we were looking at the differences in popularity.  Considering the total numbers of babys born does this have any implications for how we should inpterpret our previous analysis above? Starting from the code from above to plot the total number of babies.\n",
    "```python\n",
    "#Try ploting this use .plot() instead of selecting a year\n",
    "(\n",
    "    babynames\n",
    "    .groupby([\"Year\"])[[\"Count\"]]\n",
    "    .agg(sum)\n",
    "    .plot()\n",
    ")\n",
    "\n",
    "```\n",
    "\n",
    "Can you make a plot of the number of unique names given over the years? This one is harder and requires using a function we didn't use above, the nunique() function counts the number of unique entries in a list. \n",
    "\n",
    "Given the most poopular names you found above, Can you plot the number of babies using those names over time?  \n",
    "\n",
    "What other things can you think of?   Try and think of a question. \n",
    "\n",
    "\n",
    "\n"
   ]
  },
  {
   "cell_type": "markdown",
   "metadata": {},
   "source": []
  }
 ],
 "metadata": {
  "kernelspec": {
   "display_name": "jmaPy38",
   "language": "python",
   "name": "python3"
  },
  "language_info": {
   "codemirror_mode": {
    "name": "ipython",
    "version": 3
   },
   "file_extension": ".py",
   "mimetype": "text/x-python",
   "name": "python",
   "nbconvert_exporter": "python",
   "pygments_lexer": "ipython3",
   "version": "3.8.19"
  }
 },
 "nbformat": 4,
 "nbformat_minor": 4
}
